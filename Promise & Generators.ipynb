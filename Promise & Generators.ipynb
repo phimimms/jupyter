{
 "cells": [
  {
   "cell_type": "markdown",
   "metadata": {},
   "source": [
    "# Promise\n",
    "\n",
    "## The `Promise` object is used for asynchronous computations\n",
    "\n",
    "## A `Promise` represents a value which may be available now, or in the future, or never\n",
    "\n",
    "<img src=\"./assets/promises----promise_states_simple----revised.jpg\" />"
   ]
  },
  {
   "cell_type": "markdown",
   "metadata": {},
   "source": [
    "# `new Promise()`\n",
    "\n",
    "## The constructor `Promise()` must be used with `new`, and must be provided a function callback\n",
    "\n",
    "## This function is passed two function callbacks that act as resolution capabilities for the _Promise_, commonly denoted as `resolve()` and `reject()`"
   ]
  },
  {
   "cell_type": "code",
   "execution_count": 16,
   "metadata": {
    "collapsed": true
   },
   "outputs": [
    {
     "name": "stdout",
     "output_type": "stream",
     "text": [
      "Promise pending.\n"
     ]
    }
   ],
   "source": [
    "{\n",
    "\n",
    "const p = new Promise((resolve, reject) => {\n",
    "    console.log('Promise pending.');\n",
    "});\n",
    "\n",
    "}"
   ]
  },
  {
   "cell_type": "markdown",
   "metadata": {},
   "source": [
    "## `Promise.prototype.then()` takes one or two parameters: the fulfillment callback and the rejection callback"
   ]
  },
  {
   "cell_type": "code",
   "execution_count": 2,
   "metadata": {
    "collapsed": true
   },
   "outputs": [
    {
     "name": "stdout",
     "output_type": "stream",
     "text": [
      "Promise pending.\n"
     ]
    }
   ],
   "source": [
    "{\n",
    "\n",
    "const p = new Promise((resolve, reject) => {\n",
    "    console.log('Promise pending.');\n",
    "})\n",
    ".then(\n",
    "    () => {\n",
    "        console.log('Promise fulfilled.');\n",
    "    },\n",
    "    () => {\n",
    "        console.log('Promise rejected.');\n",
    "    }\n",
    ");\n",
    "\n",
    "}"
   ]
  },
  {
   "cell_type": "markdown",
   "metadata": {},
   "source": [
    "## `reject()` simply rejects the _Promise_"
   ]
  },
  {
   "cell_type": "code",
   "execution_count": 3,
   "metadata": {
    "collapsed": true
   },
   "outputs": [
    {
     "name": "stdout",
     "output_type": "stream",
     "text": [
      "Promise rejected.\n"
     ]
    }
   ],
   "source": [
    "{\n",
    "\n",
    "const p = new Promise((resolve, reject) => {\n",
    "    setTimeout(reject, 0);\n",
    "})\n",
    ".then(\n",
    "    () => {\n",
    "        console.log('Promise fulfilled.');\n",
    "    },\n",
    "    () => {\n",
    "        console.log('Promise rejected.');\n",
    "    }\n",
    ");\n",
    "\n",
    "}"
   ]
  },
  {
   "cell_type": "markdown",
   "metadata": {},
   "source": [
    "## `resolve()` can either fulfill or reject the _Promise_"
   ]
  },
  {
   "cell_type": "markdown",
   "metadata": {},
   "source": [
    "<img src=\"./assets/promises----promise_states_all----revised.jpg\" />\n",
    "\n",
    "## If `resolve()` is passed a non-_Promise_ value, then the instantiating _Promise_ is fulfilled with that value"
   ]
  },
  {
   "cell_type": "code",
   "execution_count": 6,
   "metadata": {
    "collapsed": true
   },
   "outputs": [
    {
     "name": "stdout",
     "output_type": "stream",
     "text": [
      "42\n"
     ]
    }
   ],
   "source": [
    "{\n",
    "\n",
    "const p = new Promise(resolve => {\n",
    "    resolve(42);\n",
    "})\n",
    ".then(\n",
    "    value => {\n",
    "        console.log(value);\n",
    "    }\n",
    ");\n",
    "\n",
    "}"
   ]
  },
  {
   "cell_type": "markdown",
   "metadata": {},
   "source": [
    "## If `resolve()` is passed a _Promise_, then the resolution of the passed _Promise_ will be adopted"
   ]
  },
  {
   "cell_type": "code",
   "execution_count": 7,
   "metadata": {
    "collapsed": true
   },
   "outputs": [
    {
     "name": "stdout",
     "output_type": "stream",
     "text": [
      "First  Promise fulfilled.\n",
      "Second Promise rejected.\n"
     ]
    }
   ],
   "source": [
    "{\n",
    "\n",
    "const fulfilledPromise = new Promise(resolve => {\n",
    "    resolve();\n",
    "});\n",
    "    \n",
    "const rejectedPromise = new Promise((resolve, reject) => {\n",
    "    setTimeout(reject, 0);\n",
    "});\n",
    "\n",
    "const p1 = new Promise(resolve => {\n",
    "    resolve(fulfilledPromise);\n",
    "})\n",
    ".then(\n",
    "    () => {\n",
    "        console.log('First  Promise fulfilled.')\n",
    "    },\n",
    "    () => {\n",
    "        console.log('First  Promise rejected.')\n",
    "    }\n",
    ");\n",
    "\n",
    "const p2 = new Promise(resolve => {\n",
    "    resolve(rejectedPromise);\n",
    "})\n",
    ".then(\n",
    "    () => {\n",
    "        console.log('Second Promise fulfilled.')\n",
    "    },\n",
    "    () => {\n",
    "        console.log('Second Promise rejected.')\n",
    "    }\n",
    ");\n",
    "\n",
    "}"
   ]
  },
  {
   "cell_type": "markdown",
   "metadata": {},
   "source": [
    "# `Promise.prototype.then()` & `Promise.prototype.catch()`\n",
    "\n",
    "## If `resolve()` or `reject()` is called multiple times, or both are called, the _Promise_ will accept only the first resolution, and silently ignore any subsequent attempts"
   ]
  },
  {
   "cell_type": "code",
   "execution_count": 8,
   "metadata": {
    "collapsed": true
   },
   "outputs": [
    {
     "name": "stdout",
     "output_type": "stream",
     "text": [
      "Promise rejected.\n"
     ]
    }
   ],
   "source": [
    "{\n",
    "\n",
    "const p = new Promise((resolve, reject) => {\n",
    "    setTimeout(reject, 0);\n",
    "    setTimeout(reject, 100);\n",
    "    setTimeout(resolve, 200);\n",
    "})\n",
    ".then(\n",
    "    () => {\n",
    "        console.log('Promise fulfilled.');\n",
    "    },\n",
    "    () => {\n",
    "        console.log('Promise rejected.');\n",
    "    }\n",
    ");\n",
    "\n",
    "}"
   ]
  },
  {
   "cell_type": "markdown",
   "metadata": {},
   "source": [
    "## If an exception is thrown at any point in the creation of a _Promise_, that exception will be caught and it will force the _Promise_ to reject"
   ]
  },
  {
   "cell_type": "code",
   "execution_count": 3,
   "metadata": {
    "collapsed": true
   },
   "outputs": [
    {
     "data": {
      "text/plain": [
       "'use strict'"
      ]
     },
     "execution_count": 3,
     "metadata": {},
     "output_type": "execute_result"
    },
    {
     "name": "stdout",
     "output_type": "stream",
     "text": [
      "Promise rejected. TypeError: str.push is not a function.\n"
     ]
    }
   ],
   "source": [
    "/* RUN IN BABEL KERNEL */\n",
    "{\n",
    "\n",
    "const p = new Promise(resolve => {\n",
    "    let str = '';\n",
    "    str.push(0);\n",
    "    resolve(str);\n",
    "})\n",
    ".then(\n",
    "    () => {\n",
    "        console.log('Promise fulfilled.');\n",
    "    },\n",
    "    (e) => {\n",
    "        console.log(`Promise rejected. ${e}.`);\n",
    "    }\n",
    ");\n",
    "\n",
    "}"
   ]
  },
  {
   "cell_type": "markdown",
   "metadata": {},
   "source": [
    "## If you call `resolve()` or `reject()` with multiple parameters, all subsequent parameters beyond the first will be silently ignored"
   ]
  },
  {
   "cell_type": "code",
   "execution_count": 1,
   "metadata": {
    "collapsed": true
   },
   "outputs": [
    {
     "name": "stdout",
     "output_type": "stream",
     "text": [
      "arg0: 'a'\n",
      "arg1:  undefined\n"
     ]
    }
   ],
   "source": [
    "{\n",
    "\n",
    "const p = new Promise(resolve => {\n",
    "    resolve('a', 'b');\n",
    "})\n",
    ".then(\n",
    "    (arg0, arg1) => {\n",
    "        console.log(`arg0: '${arg0}'`);\n",
    "        console.log(`arg1:  ${arg1}`);\n",
    "    }\n",
    ");\n",
    "\n",
    "}"
   ]
  },
  {
   "cell_type": "markdown",
   "metadata": {},
   "source": [
    "## `Promise.prototype.catch()` takes only the rejection callback as a parameter, and automatically substitutes the default fulfillment callback"
   ]
  },
  {
   "cell_type": "code",
   "execution_count": 4,
   "metadata": {
    "collapsed": true
   },
   "outputs": [
    {
     "name": "stdout",
     "output_type": "stream",
     "text": [
      "Second Promise rejected.\n"
     ]
    }
   ],
   "source": [
    "{\n",
    "    \n",
    "const p1 = new Promise(resolve => {\n",
    "    resolve();\n",
    "})\n",
    ".catch(\n",
    "    (e) => {\n",
    "        console.log(`First  Promise rejected. ${e}.`);\n",
    "    }\n",
    ");\n",
    "\n",
    "const p2 = new Promise((resolve, reject) => {\n",
    "    setTimeout(reject, 0);\n",
    "})\n",
    ".catch(\n",
    "    () => {\n",
    "        console.log('Second Promise rejected.');\n",
    "    }\n",
    ");\n",
    "\n",
    "}"
   ]
  },
  {
   "cell_type": "markdown",
   "metadata": {},
   "source": [
    "## `Promise.prototype.then()` and `Promise.prototype.catch()` return a new _Promise_"
   ]
  },
  {
   "cell_type": "code",
   "execution_count": 1,
   "metadata": {
    "collapsed": true
   },
   "outputs": [
    {
     "name": "stdout",
     "output_type": "stream",
     "text": [
      "then():  [object Promise]\n",
      "catch(): [object Promise]\n"
     ]
    }
   ],
   "source": [
    "{\n",
    "\n",
    "const p = new Promise(resolve => {\n",
    "    resolve();\n",
    "});\n",
    "\n",
    "const thenPromise = p.then(() => {});\n",
    "\n",
    "const catchPromise = p.catch(() => {});\n",
    "\n",
    "console.log(`then():  ${thenPromise}`);\n",
    "console.log(`catch(): ${catchPromise}`);\n",
    "\n",
    "}"
   ]
  },
  {
   "cell_type": "markdown",
   "metadata": {
    "collapsed": false
   },
   "source": [
    "# `Promise.resolve()`\n",
    "\n",
    "## Returns a _Promise_ that's fulfilled with that value"
   ]
  },
  {
   "cell_type": "code",
   "execution_count": 6,
   "metadata": {
    "collapsed": true
   },
   "outputs": [
    {
     "name": "stdout",
     "output_type": "stream",
     "text": [
      "42\n"
     ]
    }
   ],
   "source": [
    "{\n",
    "\n",
    "const p1 = Promise.resolve(42);\n",
    "\n",
    "const p2 = p1.then(\n",
    "    value => {\n",
    "        console.log(value);\n",
    "    }\n",
    ");\n",
    "\n",
    "}"
   ]
  },
  {
   "cell_type": "markdown",
   "metadata": {},
   "source": [
    "## If you pass a _Promise_ to `Promise.resolve()`, you get the same _Promise_ back"
   ]
  },
  {
   "cell_type": "code",
   "execution_count": 7,
   "metadata": {
    "collapsed": true
   },
   "outputs": [
    {
     "name": "stdout",
     "output_type": "stream",
     "text": [
      "42\n",
      "p1 and p2 are the same? true\n"
     ]
    }
   ],
   "source": [
    "{\n",
    "\n",
    "const p1 = new Promise(resolve => {\n",
    "    resolve(42);\n",
    "});\n",
    "\n",
    "const p2 = Promise.resolve(p1);\n",
    "    \n",
    "const p3 = p2.then(\n",
    "    value => {\n",
    "        console.log(value);\n",
    "        console.log(`p1 and p2 are the same? ${p1 === p2}`);\n",
    "    }\n",
    ");\n",
    "\n",
    "}"
   ]
  },
  {
   "cell_type": "markdown",
   "metadata": {
    "collapsed": true
   },
   "source": [
    "## If the resolution handler returns a non-_Promise_ value, the new returned _Promise_ is fulfilled"
   ]
  },
  {
   "cell_type": "code",
   "execution_count": 8,
   "metadata": {
    "collapsed": true
   },
   "outputs": [
    {
     "name": "stdout",
     "output_type": "stream",
     "text": [
      "42\n"
     ]
    }
   ],
   "source": [
    "{\n",
    "\n",
    "const p = new Promise(resolve => {\n",
    "    resolve();\n",
    "})\n",
    ".then(\n",
    "    () => {\n",
    "        return 42; // Equivalent to: return Promise.resolve(42);\n",
    "    }\n",
    ")\n",
    ".then(\n",
    "    value => {\n",
    "        console.log(value)\n",
    "    }\n",
    ");\n",
    "\n",
    "}"
   ]
  },
  {
   "cell_type": "markdown",
   "metadata": {},
   "source": [
    "## If the resolution handler returns a _Promise_, its resolution will be adopted"
   ]
  },
  {
   "cell_type": "code",
   "execution_count": 11,
   "metadata": {
    "collapsed": true
   },
   "outputs": [
    {
     "name": "stdout",
     "output_type": "stream",
     "text": [
      "Promise rejected.\n"
     ]
    }
   ],
   "source": [
    "{\n",
    "\n",
    "const p = new Promise(resolve => {\n",
    "    resolve();\n",
    "})\n",
    ".then(\n",
    "    () => {\n",
    "        return new Promise((resolve, reject) => {\n",
    "            setTimeout(reject, 0);\n",
    "        });\n",
    "    }\n",
    ")\n",
    ".then(\n",
    "    () => {\n",
    "        console.log('Promise fulfilled.');\n",
    "    },\n",
    "    () => {\n",
    "        console.log('Promise rejected.');\n",
    "    }\n",
    ");\n",
    "\n",
    "}"
   ]
  },
  {
   "cell_type": "markdown",
   "metadata": {},
   "source": [
    "## The _Promise_ returned from the resolution handler does _not_ inherit the resolution state of its chained _Promise_"
   ]
  },
  {
   "cell_type": "code",
   "execution_count": 19,
   "metadata": {
    "collapsed": true
   },
   "outputs": [
    {
     "name": "stdout",
     "output_type": "stream",
     "text": [
      "Promise rejected.\n",
      "Promise fulfilled.\n"
     ]
    }
   ],
   "source": [
    "{\n",
    "\n",
    "const p = new Promise((resolve, reject) => {\n",
    "    setTimeout(reject, 0);\n",
    "})\n",
    ".then(\n",
    "    () => {\n",
    "        console.log('Promise fulfilled.');\n",
    "    },\n",
    "    () => {\n",
    "        console.log('Promise rejected.');\n",
    "    }\n",
    ")\n",
    ".then(\n",
    "    () => {\n",
    "        console.log('Promise fulfilled.');\n",
    "    },\n",
    "    () => {\n",
    "        console.log('Promise rejected.')\n",
    "    }\n",
    ");\n",
    "\n",
    "}"
   ]
  },
  {
   "cell_type": "markdown",
   "metadata": {},
   "source": [
    "## If an exception is thrown in the resolution handler, the new returned _Promise_ is rejected"
   ]
  },
  {
   "cell_type": "code",
   "execution_count": 21,
   "metadata": {
    "collapsed": true
   },
   "outputs": [
    {
     "name": "stdout",
     "output_type": "stream",
     "text": [
      "Promise rejected. TypeError: str.push is not a function.\n"
     ]
    }
   ],
   "source": [
    "{\n",
    "\n",
    "const p = new Promise(resolve => {\n",
    "    resolve();\n",
    "})\n",
    ".then(() => {\n",
    "    var str = '';\n",
    "    str.push(0);\n",
    "    return str;\n",
    "})\n",
    ".then(\n",
    "    () => {\n",
    "        console.log('Promise fulfilled.')\n",
    "    },\n",
    "    (e) => {\n",
    "        console.log(`Promise rejected. ${e}.`)\n",
    "    }\n",
    ");\n",
    "\n",
    "}"
   ]
  },
  {
   "cell_type": "markdown",
   "metadata": {},
   "source": [
    "# `Promise.reject()`\n",
    "\n",
    "## Returns a rejected _Promise_"
   ]
  },
  {
   "cell_type": "code",
   "execution_count": 2,
   "metadata": {
    "collapsed": true
   },
   "outputs": [
    {
     "data": {
      "text/plain": [
       "Promise { <pending> }"
      ]
     },
     "execution_count": 2,
     "metadata": {},
     "output_type": "execute_result"
    },
    {
     "name": "stdout",
     "output_type": "stream",
     "text": [
      "Promise rejected.\n"
     ]
    }
   ],
   "source": [
    "/* RUN IN BABEL KERNEL */\n",
    "{\n",
    "\n",
    "const p = Promise.reject();\n",
    "\n",
    "p.then(\n",
    "    () => {\n",
    "        console.log('Promise fulfilled.')\n",
    "    },\n",
    "    () => {\n",
    "        console.log('Promise rejected.');\n",
    "    }\n",
    ");\n",
    "\n",
    "}"
   ]
  },
  {
   "cell_type": "markdown",
   "metadata": {},
   "source": [
    "# `Promise.all()`"
   ]
  },
  {
   "cell_type": "markdown",
   "metadata": {},
   "source": [
    "## `Promise.all()` expects a single argument: an array of _Promise_ instances\n",
    "\n",
    "## The _Promise_ returned from `Promise.all()` will receive a fulfillment argument that is an array of all the fulfillment values from the passed in _Promises_, in the same order as specified"
   ]
  },
  {
   "cell_type": "code",
   "execution_count": 3,
   "metadata": {
    "collapsed": true
   },
   "outputs": [
    {
     "name": "stdout",
     "output_type": "stream",
     "text": [
      "[Array] [1,2]\n"
     ]
    }
   ],
   "source": [
    "{\n",
    "\n",
    "const p1 = new Promise(resolve => {\n",
    "    resolve(1);\n",
    "});\n",
    "\n",
    "const p2 = new Promise(resolve => {\n",
    "    resolve(2);\n",
    "});\n",
    "\n",
    "const p3 = Promise.all([p1, p2]).then(\n",
    "    values => {\n",
    "        console.log(values)\n",
    "    }\n",
    ");\n",
    "\n",
    "}"
   ]
  },
  {
   "cell_type": "markdown",
   "metadata": {},
   "source": [
    "## If any one of those _Promise_ instances rejects, the main `Promise.all()` _Promise_ is immediately rejected, discarding all results from any other _Promise_ instances"
   ]
  },
  {
   "cell_type": "code",
   "execution_count": 4,
   "metadata": {
    "collapsed": true
   },
   "outputs": [
    {
     "name": "stdout",
     "output_type": "stream",
     "text": [
      "Promise rejected: Error 42.\n"
     ]
    }
   ],
   "source": [
    "{\n",
    "\n",
    "const p1 = new Promise(resolve => {\n",
    "    resolve();\n",
    "});\n",
    "\n",
    "const p2 = new Promise((resolve, reject) => {\n",
    "    setTimeout(() => reject('Error 42'), 0);\n",
    "});\n",
    "\n",
    "const p3 = Promise.all([p1, p2]).then(\n",
    "    () => {\n",
    "        console.log('Promise fulfilled.');\n",
    "    },\n",
    "    (e) => {\n",
    "        console.log(`Promise rejected. ${e}.`);\n",
    "    }\n",
    ");\n",
    "\n",
    "}"
   ]
  },
  {
   "cell_type": "markdown",
   "metadata": {},
   "source": [
    "## If `Promise.all()` is passed an empty array, it will fulfill immediately"
   ]
  },
  {
   "cell_type": "code",
   "execution_count": 6,
   "metadata": {
    "collapsed": true
   },
   "outputs": [
    {
     "name": "stdout",
     "output_type": "stream",
     "text": [
      "Promise fulfilled.\n"
     ]
    }
   ],
   "source": [
    "{\n",
    "\n",
    "const p = Promise.all([]).then(\n",
    "    () => {\n",
    "        console.log('Promise fulfilled.');\n",
    "    },\n",
    "    (e) => {\n",
    "        console.log(`Promise rejected. ${e}`);\n",
    "    }\n",
    ");\n",
    "\n",
    "}"
   ]
  },
  {
   "cell_type": "markdown",
   "metadata": {},
   "source": [
    "# `Promise.race()`\n",
    "\n",
    "## `Promise.race()` expects a single array argument containing one or more _Promise_ instances\n",
    "## `Promise.race()` will fulfill if and when any _Promise_ resolution is a fulfillment"
   ]
  },
  {
   "cell_type": "code",
   "execution_count": 8,
   "metadata": {
    "collapsed": true
   },
   "outputs": [
    {
     "name": "stdout",
     "output_type": "stream",
     "text": [
      "The first Promise to resolve: p2.\n"
     ]
    }
   ],
   "source": [
    "{\n",
    "\n",
    "const p1 = new Promise(resolve => {\n",
    "    setTimeout(() => resolve('p1'), 1000);\n",
    "});\n",
    "\n",
    "const p2 = new Promise(resolve => {\n",
    "    resolve('p2');\n",
    "});\n",
    "\n",
    "const p3 = Promise.race([p1, p2]).then(\n",
    "    value => {\n",
    "        console.log(`The first Promise to resolve: ${value}.`);\n",
    "    }\n",
    ");\n",
    "\n",
    "}"
   ]
  },
  {
   "cell_type": "markdown",
   "metadata": {},
   "source": [
    "## `Promise.race()` will reject if and when any _Promise_ resolution is a rejection"
   ]
  },
  {
   "cell_type": "code",
   "execution_count": 10,
   "metadata": {
    "collapsed": true
   },
   "outputs": [
    {
     "name": "stdout",
     "output_type": "stream",
     "text": [
      "The first Promise to resolve: p2.\n"
     ]
    }
   ],
   "source": [
    "{\n",
    "\n",
    "const p1 = new Promise(resolve => {\n",
    "    setTimeout(() => resolve('p1'), 1000);\n",
    "});\n",
    "\n",
    "const p2 = new Promise((resolve, reject) => {\n",
    "    setTimeout(() => reject('p2'), 0);\n",
    "});\n",
    "\n",
    "const p3 = Promise.race([p1, p2]).then(\n",
    "    () => {},\n",
    "    value => {\n",
    "        console.log(`The first Promise to resolve: ${value}.`)\n",
    "    }\n",
    ")\n",
    "\n",
    "}"
   ]
  },
  {
   "cell_type": "markdown",
   "metadata": {},
   "source": [
    "## If `Promise.race()` is passed an empty array, it will never resolve"
   ]
  },
  {
   "cell_type": "code",
   "execution_count": 12,
   "metadata": {
    "collapsed": true
   },
   "outputs": [],
   "source": [
    "{\n",
    "\n",
    "const p = Promise.race([]).then(\n",
    "    () => {\n",
    "        console.log('Promise fulfilled.');\n",
    "    },\n",
    "    () => {\n",
    "        console.log('Promise rejected.');\n",
    "    }\n",
    ");\n",
    "\n",
    "}"
   ]
  },
  {
   "cell_type": "markdown",
   "metadata": {},
   "source": [
    "# Generators"
   ]
  },
  {
   "cell_type": "code",
   "execution_count": 1,
   "metadata": {
    "collapsed": true
   },
   "outputs": [
    {
     "data": {
      "text/plain": [
       "[Promise] {}"
      ]
     },
     "execution_count": 1,
     "metadata": {},
     "output_type": "execute_result"
    },
    {
     "name": "stdout",
     "output_type": "stream",
     "text": [
      "Philippe is 25 years old!\n",
      "Doug is 25 years old!\n"
     ]
    }
   ],
   "source": [
    "{\n",
    "\n",
    "const calculateAge = function(birthDate, delay) {\n",
    "    return new Promise(resolve => {\n",
    "        setTimeout(() => {\n",
    "            const today = new Date();\n",
    "            let age = today.getFullYear() - birthDate.getFullYear();\n",
    "\n",
    "            if (today.getMonth() < birthDate.getMonth() || \n",
    "                today.getMonth() === birthDate.getMonth() && today.getDate() < birthDate.getDate()) {\n",
    "                age--;\n",
    "            }\n",
    "\n",
    "            resolve(age);\n",
    "        }, delay);\n",
    "    });\n",
    "};\n",
    "\n",
    "const sayMyAge = function*(name, birthDate, delay) {\n",
    "    const age = yield calculateAge(birthDate, delay);\n",
    "    console.log(`${name} is ${age} years old!`);\n",
    "}\n",
    "\n",
    "const it1 = sayMyAge('Doug', new Date(1991, 1, 9), 1000);\n",
    "it1.next().value.then(age => {\n",
    "    it1.next(age);\n",
    "});\n",
    "\n",
    "const it2 = sayMyAge('Philippe', new Date(1991, 8, 22), 10);\n",
    "it2.next().value.then(age => {\n",
    "    it2.next(age);\n",
    "});\n",
    "\n",
    "}"
   ]
  }
 ],
 "metadata": {
  "kernelspec": {
   "display_name": "NodeJS",
   "language": "javascript",
   "name": "nodejs"
  },
  "language_info": {
   "codemirror_mode": "javascript",
   "file_extension": ".js",
   "mimetype": "text/javascript",
   "name": "nodejs",
   "pygments_lexer": "javascript",
   "version": "0.10"
  }
 },
 "nbformat": 4,
 "nbformat_minor": 2
}
