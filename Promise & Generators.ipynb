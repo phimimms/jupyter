{
 "cells": [
  {
   "cell_type": "markdown",
   "metadata": {},
   "source": [
    "# _Promise_\n",
    "\n",
    "## new Promise()\n",
    "\n",
    "### The constructor `Promise()` must be used with `new`, and must be provided a function callback\n",
    "### This function is passed two function callbacks that act as resolution capabilities for the promise, commonly denoted as `resolve()` and `reject()`"
   ]
  },
  {
   "cell_type": "code",
   "execution_count": 1,
   "metadata": {
    "collapsed": true
   },
   "outputs": [
    {
     "data": {
      "text/plain": [
       "[Promise] {}"
      ]
     },
     "execution_count": 1,
     "metadata": {},
     "output_type": "execute_result"
    }
   ],
   "source": [
    "new Promise((resolve, reject) => {\n",
    "    //...\n",
    "});"
   ]
  },
  {
   "cell_type": "markdown",
   "metadata": {},
   "source": [
    "### `reject()` simply rejects the promise"
   ]
  },
  {
   "cell_type": "code",
   "execution_count": 2,
   "metadata": {
    "collapsed": false
   },
   "outputs": [
    {
     "name": "stdout",
     "output_type": "stream",
     "text": [
      "Promise is rejected.\n"
     ]
    }
   ],
   "source": [
    "{\n",
    "\n",
    "const p = new Promise((resolve, reject) => {\n",
    "    setTimeout(reject, 0);\n",
    "})\n",
    ".then(\n",
    "    () => {\n",
    "        console.log('Promise fulfilled.');\n",
    "    },\n",
    "    () => {\n",
    "        console.log('Promise rejected.');\n",
    "    }\n",
    ");\n",
    "\n",
    "}"
   ]
  },
  {
   "cell_type": "markdown",
   "metadata": {},
   "source": [
    "### `resolve()` can either fulfill or reject the promise\n",
    "- **If `resolve()` is passed a non-_Promise_ value, then the promise is fulfilled with that value**"
   ]
  },
  {
   "cell_type": "markdown",
   "metadata": {},
   "source": [
    "- **If `resolve()` is passed a _Promise_, then the promise will adopt the resolution of the passed promise**"
   ]
  },
  {
   "cell_type": "markdown",
   "metadata": {},
   "source": [
    "## _Promise_ is immutable\n",
    "\n",
    "### Any `then()` registered callbacks will only ever be called once (each)\n",
    "### If `resolve()` or `reject()` is called multiple times, or tries to call both, the _Promise_ will accept only the first resolution, and silently ignore any subsequent attempts"
   ]
  },
  {
   "cell_type": "code",
   "execution_count": 20,
   "metadata": {
    "collapsed": true
   },
   "outputs": [
    {
     "name": "stdout",
     "output_type": "stream",
     "text": [
      "Promise rejected.\n"
     ]
    }
   ],
   "source": [
    "{\n",
    "\n",
    "const p = new Promise((resolve, reject) => {\n",
    "    setTimeout(reject, 0);\n",
    "    setTimeout(reject, 0);\n",
    "    setTimeout(resolve, 0);\n",
    "})\n",
    ".then(\n",
    "    () => {\n",
    "        console.log('Promise fulfilled.');\n",
    "    },\n",
    "    () => {\n",
    "        console.log('Promise rejected.');\n",
    "    }\n",
    ");\n",
    "\n",
    "}"
   ]
  },
  {
   "cell_type": "markdown",
   "metadata": {},
   "source": [
    "### If an exception is thrown at any point in the creation of a _Promise_, or in the observation of its resolution, such as a `TypeError` or `ReferenceError`, that exception will be caught, and it will force the _Promise_ to reject"
   ]
  },
  {
   "cell_type": "code",
   "execution_count": null,
   "metadata": {
    "collapsed": false,
    "scrolled": true
   },
   "outputs": [],
   "source": [
    "{\n",
    "/* RUN IN BABEL KERNEL */\n",
    "const p = new Promise(resolve => {\n",
    "    let str = '';\n",
    "    str.push(0);\n",
    "    resolve(str);\n",
    "})\n",
    ".then(\n",
    "    () => {\n",
    "        console.log('Promise fulfilled.');\n",
    "    },\n",
    "    (e) => {\n",
    "        console.log(`Promise rejected. ${e}.`);\n",
    "    }\n",
    ");\n",
    "\n",
    "}"
   ]
  },
  {
   "cell_type": "markdown",
   "metadata": {},
   "source": [
    "### If you call `resolve()` or `reject()` with multiple parameters, all subsequent parameters beyond the first will be silently ignored"
   ]
  },
  {
   "cell_type": "code",
   "execution_count": 4,
   "metadata": {
    "collapsed": true
   },
   "outputs": [
    {
     "name": "stdout",
     "output_type": "stream",
     "text": [
      "arg0: 'a'\n",
      "arg1: undefined\n"
     ]
    }
   ],
   "source": [
    "{\n",
    "\n",
    "const p = new Promise(resolve => {\n",
    "    resolve('a', 'b');\n",
    "})\n",
    ".then((arg0, arg1) => {\n",
    "    console.log(`arg0: '${arg0}'`);\n",
    "    console.log(`arg1: ${arg1}`);\n",
    "});\n",
    "\n",
    "}"
   ]
  },
  {
   "cell_type": "markdown",
   "metadata": {},
   "source": [
    "### `Promise.prototype.then()` returns a new _Promise_"
   ]
  },
  {
   "cell_type": "code",
   "execution_count": 5,
   "metadata": {
    "collapsed": true
   },
   "outputs": [
    {
     "name": "stdout",
     "output_type": "stream",
     "text": [
      "[object Promise]\n"
     ]
    }
   ],
   "source": [
    "{\n",
    "\n",
    "const promise = new Promise(resolve => {\n",
    "    resolve();\n",
    "});\n",
    "\n",
    "const thenPromise = promise.then(() => {});\n",
    "\n",
    "console.log(thenPromise.toString());\n",
    "\n",
    "}"
   ]
  },
  {
   "cell_type": "markdown",
   "metadata": {
    "collapsed": false
   },
   "source": [
    "## `Promise.resolve()`\n",
    "\n",
    "### Returns a _Promise_ that's fulfilled with that value"
   ]
  },
  {
   "cell_type": "code",
   "execution_count": 6,
   "metadata": {
    "collapsed": true
   },
   "outputs": [
    {
     "data": {
      "text/plain": [
       "[Promise] {}"
      ]
     },
     "execution_count": 6,
     "metadata": {},
     "output_type": "execute_result"
    },
    {
     "name": "stdout",
     "output_type": "stream",
     "text": [
      "42\n"
     ]
    }
   ],
   "source": [
    "{\n",
    "\n",
    "const p = Promise.resolve(42);\n",
    "\n",
    "p.then(value => {\n",
    "    console.log(value);\n",
    "});\n",
    "\n",
    "}"
   ]
  },
  {
   "cell_type": "markdown",
   "metadata": {},
   "source": [
    "### If you pass a _Promise_ to `Promise.resolve()`, you just get the same promise back"
   ]
  },
  {
   "cell_type": "code",
   "execution_count": 7,
   "metadata": {
    "collapsed": true
   },
   "outputs": [
    {
     "name": "stdout",
     "output_type": "stream",
     "text": [
      "42\n"
     ]
    }
   ],
   "source": [
    "{\n",
    "\n",
    "const p1 = new Promise(resolve => {\n",
    "    resolve(42);\n",
    "});\n",
    "\n",
    "const p2 = Promise.resolve(p1).then(value => {\n",
    "    console.log(value);\n",
    "});\n",
    "\n",
    "}"
   ]
  },
  {
   "cell_type": "markdown",
   "metadata": {
    "collapsed": true
   },
   "source": [
    "### Inside the fulfillment/rejection handlers, if you return a value, the new returned _Promise_ is resolved"
   ]
  },
  {
   "cell_type": "code",
   "execution_count": 9,
   "metadata": {
    "collapsed": true
   },
   "outputs": [
    {
     "name": "stdout",
     "output_type": "stream",
     "text": [
      "42\n"
     ]
    }
   ],
   "source": [
    "{\n",
    "\n",
    "const p = new Promise(resolve => {\n",
    "    resolve();\n",
    "})\n",
    ".then(() => {\n",
    "    return 42;\n",
    "})\n",
    ".then(value => {\n",
    "    console.log(value)\n",
    "});\n",
    "\n",
    "}"
   ]
  },
  {
   "cell_type": "markdown",
   "metadata": {},
   "source": [
    "### Inside the fulfillment/rejection handlers, if an exception is thrown, the new returned _Promise_ is resolved"
   ]
  },
  {
   "cell_type": "code",
   "execution_count": 11,
   "metadata": {
    "collapsed": true
   },
   "outputs": [
    {
     "name": "stdout",
     "output_type": "stream",
     "text": [
      "Promise rejected: TypeError: str.push is not a function.\n"
     ]
    }
   ],
   "source": [
    "{\n",
    "\n",
    "const p = new Promise(resolve => {\n",
    "    resolve();\n",
    "})\n",
    ".then(() => {\n",
    "    var str = '';\n",
    "    str.push(0);\n",
    "    return str;\n",
    "})\n",
    ".then(\n",
    "    () => {\n",
    "        console.log('Promise fulfilled.')\n",
    "    },\n",
    "    (e) => {\n",
    "        console.log(`Promise rejected: ${e}.`)\n",
    "    }\n",
    ");\n",
    "\n",
    "}"
   ]
  },
  {
   "cell_type": "markdown",
   "metadata": {},
   "source": [
    "### If the fulfillment or rejection handlers returns a _Promise_, it is unwrapped, so that whatever its resolution is will become the resolution of the chained _Promise_ returned from the current `then()`"
   ]
  },
  {
   "cell_type": "code",
   "execution_count": 12,
   "metadata": {
    "collapsed": true
   },
   "outputs": [
    {
     "name": "stdout",
     "output_type": "stream",
     "text": [
      "Promise rejected.\n"
     ]
    }
   ],
   "source": [
    "{\n",
    "\n",
    "const p = new Promise(resolve => {\n",
    "    resolve();\n",
    "})\n",
    ".then(() => {\n",
    "    return new Promise((resolve, reject) => {\n",
    "        setTimeout(() => reject(), 0);\n",
    "    });\n",
    "})\n",
    ".then(\n",
    "    () => {\n",
    "        console.log('Promise fulfilled.');\n",
    "    },\n",
    "    () => {\n",
    "        console.log('Promise rejected.');\n",
    "    }\n",
    ");\n",
    "\n",
    "}"
   ]
  },
  {
   "cell_type": "markdown",
   "metadata": {},
   "source": [
    "## `Promise.all()`"
   ]
  },
  {
   "cell_type": "markdown",
   "metadata": {},
   "source": [
    "### `Promise.all()` expects a single argument: an array of _Promise_ instances. The _Promise_ returned from `Promise.all()` will receive a fulfillment argument that is an array of all the fulfillment values from the passed in _Promises_, in the same order as specified"
   ]
  },
  {
   "cell_type": "code",
   "execution_count": 13,
   "metadata": {
    "collapsed": true
   },
   "outputs": [
    {
     "data": {
      "text/plain": [
       "[Promise] {}"
      ]
     },
     "execution_count": 13,
     "metadata": {},
     "output_type": "execute_result"
    },
    {
     "name": "stdout",
     "output_type": "stream",
     "text": [
      "[Array] [1,2]\n"
     ]
    }
   ],
   "source": [
    "{\n",
    "\n",
    "const p1 = new Promise(resolve => {\n",
    "    resolve(1);\n",
    "});\n",
    "\n",
    "const p2 = new Promise(resolve => {\n",
    "    resolve(2);\n",
    "});\n",
    "\n",
    "Promise.all([p1, p2])\n",
    ".then(values => console.log(values));\n",
    "\n",
    "}"
   ]
  },
  {
   "cell_type": "markdown",
   "metadata": {},
   "source": [
    "### If any one of those _Promise_ instances rejects, the main `Promise.all()` _Promise_ is immediately rejected, discarding all results from any other _Promise_ instances"
   ]
  },
  {
   "cell_type": "code",
   "execution_count": 14,
   "metadata": {
    "collapsed": true
   },
   "outputs": [
    {
     "data": {
      "text/plain": [
       "[Promise] {}"
      ]
     },
     "execution_count": 14,
     "metadata": {},
     "output_type": "execute_result"
    },
    {
     "name": "stdout",
     "output_type": "stream",
     "text": [
      "Promise rejected: Error 42.\n"
     ]
    }
   ],
   "source": [
    "{\n",
    "\n",
    "const p1 = new Promise(resolve => {\n",
    "    resolve();\n",
    "});\n",
    "\n",
    "const p2 = new Promise((resolve, reject) => {\n",
    "    setTimeout(() => reject('Error 42'), 0);\n",
    "});\n",
    "\n",
    "Promise.all([p1, p2])\n",
    ".then(\n",
    "    () => {\n",
    "        console.log('Promise fulfilled.');\n",
    "    },\n",
    "    (e) => {\n",
    "        console.log(`Promise rejected: ${e}.`);\n",
    "    }\n",
    ");\n",
    "\n",
    "}"
   ]
  },
  {
   "cell_type": "markdown",
   "metadata": {},
   "source": [
    "## `Promise.race()`\n",
    "\n",
    "### `Promise.race()` expects a single array argument containing one or more _Promise_ instance\n",
    "### `Promise.race()` will fulfill if and when any _Promise_ resolution is a fulfillment"
   ]
  },
  {
   "cell_type": "code",
   "execution_count": 15,
   "metadata": {
    "collapsed": true
   },
   "outputs": [
    {
     "data": {
      "text/plain": [
       "[Promise] {}"
      ]
     },
     "execution_count": 15,
     "metadata": {},
     "output_type": "execute_result"
    },
    {
     "name": "stdout",
     "output_type": "stream",
     "text": [
      "The first Promise to resolve: p2.\n"
     ]
    }
   ],
   "source": [
    "{\n",
    "\n",
    "const p1 = new Promise(resolve => {\n",
    "    setTimeout(() => resolve('p1'), 1000);\n",
    "});\n",
    "\n",
    "const p2 = new Promise(resolve => {\n",
    "    resolve('p2');\n",
    "});\n",
    "\n",
    "Promise.race([p1, p2])\n",
    ".then((value) => {\n",
    "    console.log(`The first Promise to resolve: ${value}.`);\n",
    "});\n",
    "\n",
    "}"
   ]
  },
  {
   "cell_type": "markdown",
   "metadata": {},
   "source": [
    "### `Promise.race()` will reject if and when any _Promise_ resolution is a rejection"
   ]
  },
  {
   "cell_type": "code",
   "execution_count": 16,
   "metadata": {
    "collapsed": true
   },
   "outputs": [
    {
     "data": {
      "text/plain": [
       "[Promise] {}"
      ]
     },
     "execution_count": 16,
     "metadata": {},
     "output_type": "execute_result"
    },
    {
     "name": "stdout",
     "output_type": "stream",
     "text": [
      "The first Promise to resolve: p2.\n"
     ]
    }
   ],
   "source": [
    "{\n",
    "\n",
    "const p1 = new Promise(resolve => {\n",
    "    setTimeout(() => resolve('p1'), 1000);\n",
    "});\n",
    "\n",
    "const p2 = new Promise((resolve, reject) => {\n",
    "    setTimeout(() => reject('p2'), 0);\n",
    "});\n",
    "\n",
    "Promise.race([p1, p2])\n",
    ".then(\n",
    "    () => {},\n",
    "    (e) => {\n",
    "        console.log(`The first Promise to resolve: ${e}.`)\n",
    "    }\n",
    ")\n",
    "\n",
    "}"
   ]
  },
  {
   "cell_type": "markdown",
   "metadata": {},
   "source": [
    "### If `Promise.race()` is passed an empty array, it will never resolve"
   ]
  },
  {
   "cell_type": "code",
   "execution_count": 17,
   "metadata": {
    "collapsed": true
   },
   "outputs": [
    {
     "data": {
      "text/plain": [
       "[Promise] {}"
      ]
     },
     "execution_count": 17,
     "metadata": {},
     "output_type": "execute_result"
    }
   ],
   "source": [
    "{\n",
    "\n",
    "Promise.race([])\n",
    ".then(\n",
    "    () => {\n",
    "        console.log('Promise fulfilled.');\n",
    "    },\n",
    "    () => {\n",
    "        console.log('Promise rejected.');\n",
    "    }\n",
    ");\n",
    "\n",
    "}"
   ]
  },
  {
   "cell_type": "code",
   "execution_count": 19,
   "metadata": {
    "collapsed": true
   },
   "outputs": [
    {
     "data": {
      "text/plain": [
       "[Promise] {}"
      ]
     },
     "execution_count": 19,
     "metadata": {},
     "output_type": "execute_result"
    },
    {
     "name": "stdout",
     "output_type": "stream",
     "text": [
      "Philippe is 25 years old!\n",
      "Doug is 26 years old!\n"
     ]
    }
   ],
   "source": [
    "{\n",
    "\n",
    "function calculateAge(birthDate, delay) {\n",
    "    return new Promise(resolve => {\n",
    "        setTimeout(() => {\n",
    "            let age = ((Date.now() - birthDate.getTime()) / 1000 / 60 / 60 / 24 / 365).toFixed();\n",
    "            resolve(age);\n",
    "        }, delay);\n",
    "    });\n",
    "}\n",
    "\n",
    "function* sayMyAge(name, birthDate, delay) {\n",
    "    let age = yield calculateAge(birthDate, delay);\n",
    "    console.log(`${name} is ${age} years old!`);\n",
    "}\n",
    "\n",
    "const it1 = sayMyAge('Doug', new Date(1991, 2, 9), 1000);\n",
    "it1.next().value.then(age => {\n",
    "    it1.next(age);\n",
    "});\n",
    "\n",
    "const it2 = sayMyAge('Philippe', new Date(1991, 9, 22), 10);\n",
    "it2.next().value.then(age => {\n",
    "    it2.next(age);\n",
    "});\n",
    "\n",
    "}"
   ]
  },
  {
   "cell_type": "code",
   "execution_count": null,
   "metadata": {
    "collapsed": true
   },
   "outputs": [],
   "source": []
  }
 ],
 "metadata": {
  "kernelspec": {
   "display_name": "NodeJS",
   "language": "javascript",
   "name": "nodejs"
  },
  "language_info": {
   "codemirror_mode": "javascript",
   "file_extension": ".js",
   "mimetype": "text/javascript",
   "name": "nodejs",
   "pygments_lexer": "javascript",
   "version": "0.10"
  }
 },
 "nbformat": 4,
 "nbformat_minor": 2
}
